{
 "cells": [
  {
   "cell_type": "code",
   "execution_count": 31,
   "id": "94f37641",
   "metadata": {},
   "outputs": [
    {
     "name": "stdout",
     "output_type": "stream",
     "text": [
      "[ 3261  3263  3264  3265  3503  3505  3506  3507  4359  4360  4363  4364\n",
      "  4367  4368  4369  4370  5290  5291  5295  5296  5306  5307  5308  5309\n",
      "  5320  5321  6091  6093  6094  6095  6096  6097  7292  7579  8607  8610\n",
      "  8613  8616  8619  8622  8624  9772  9773  9774  9775  9778  9782  9785\n",
      "  9788  9792  9796  9797  9800  9812 10703 10706]\n",
      "[1. 1. 1. 1. 1. 1. 1. 1. 1. 1. 1. 1. 1. 1. 1. 1. 1. 1. 1. 1. 1. 1. 1. 1.\n",
      " 1. 1. 1. 1. 1. 1. 1. 1. 1. 1. 1. 1. 1. 1. 1. 1. 1. 1. 1. 1. 1. 1. 1. 1.\n",
      " 1. 1. 1. 1. 1. 1. 1. 1. 0.]\n"
     ]
    },
    {
     "data": {
      "application/vnd.jupyter.widget-view+json": {
       "model_id": "7dc420a275504f0fb6e6fae7a19c2826",
       "version_major": 2,
       "version_minor": 0
      },
      "text/plain": [
       "Renderer(camera=PerspectiveCamera(children=(DirectionalLight(color='white', intensity=0.6, position=(1.9967555…"
      ]
     },
     "metadata": {},
     "output_type": "display_data"
    },
    {
     "data": {
      "text/plain": [
       "<meshplot.Viewer.Viewer at 0x7fdb4c82e2b0>"
      ]
     },
     "execution_count": 31,
     "metadata": {},
     "output_type": "execute_result"
    }
   ],
   "source": [
    "import igl\n",
    "import scipy as sp\n",
    "import numpy as np\n",
    "from meshplot import plot, subplot, interact\n",
    "from scipy.sparse.linalg import spsolve\n",
    "\n",
    "v, f = igl.read_triangle_mesh(\"camel_head.off\")\n",
    "\n",
    "## Find boundary vertices\n",
    "e = igl.boundary_facets(f)\n",
    "v_b = np.unique(e)\n",
    "v_b = np.append(v_b, np.array([300]))\n",
    "\n",
    "## List of all vertex indices\n",
    "v_all = np.arange(v.shape[0])\n",
    "\n",
    "## List of interior indices\n",
    "v_in = np.setdiff1d(v_all, v_b)\n",
    "\n",
    "## Construct and slice up Laplacian\n",
    "l = igl.cotmatrix(v, f)\n",
    "l_ii = l[v_in, :]\n",
    "l_ii = l_ii[:, v_in]\n",
    "\n",
    "l_ib = l[v_in, :]\n",
    "l_ib = l_ib[:, v_b]\n",
    "\n",
    "## Dirichlet boundary conditions from z-coordinate\n",
    "z = v[:, 2]\n",
    "bc = z[v_b]\n",
    "bc[:] = 1.0\n",
    "bc[-1] = 0.0\n",
    "print(bc)\n",
    "\n",
    "## Solve PDE\n",
    "z_in = spsolve(-l_ii, l_ib.dot(bc))\n",
    "c = np.zeros((v.shape[0], 3))\n",
    "c[v_in, 0] = z_in\n",
    "c[v_b] = np.array([1.0, 0.0, 0.0])\n",
    "c[v_b[-1]] = np.array([0.0, 0.0, 0.0])\n",
    "\n",
    "plot(v, f, c)"
   ]
  },
  {
   "cell_type": "code",
   "execution_count": null,
   "id": "0e01d19d",
   "metadata": {},
   "outputs": [],
   "source": []
  }
 ],
 "metadata": {
  "kernelspec": {
   "display_name": "Python 3 (ipykernel)",
   "language": "python",
   "name": "python3"
  },
  "language_info": {
   "codemirror_mode": {
    "name": "ipython",
    "version": 3
   },
   "file_extension": ".py",
   "mimetype": "text/x-python",
   "name": "python",
   "nbconvert_exporter": "python",
   "pygments_lexer": "ipython3",
   "version": "3.8.11"
  }
 },
 "nbformat": 4,
 "nbformat_minor": 5
}
