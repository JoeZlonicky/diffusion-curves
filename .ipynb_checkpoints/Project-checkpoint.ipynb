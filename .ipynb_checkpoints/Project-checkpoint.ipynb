{
 "cells": [
  {
   "cell_type": "markdown",
   "id": "5fb700c4",
   "metadata": {},
   "source": [
    "## Imports"
   ]
  },
  {
   "cell_type": "code",
   "execution_count": 2,
   "id": "c06fd0f4",
   "metadata": {},
   "outputs": [],
   "source": [
    "import numpy as np\n",
    "from scipy.sparse.linalg import spsolve\n",
    "import igl\n",
    "from meshplot import plot\n",
    "import triangle"
   ]
  },
  {
   "cell_type": "markdown",
   "id": "3127a6a9",
   "metadata": {},
   "source": [
    "## Setup"
   ]
  },
  {
   "cell_type": "code",
   "execution_count": 22,
   "id": "f85f76cd",
   "metadata": {},
   "outputs": [],
   "source": [
    "GRID_SIZE = 100\n",
    "v = np.zeros(((GRID_SIZE+1)**2, 3))\n",
    "i = 0\n",
    "for x in range(GRID_SIZE+1):\n",
    "    for y in range(GRID_SIZE+1):\n",
    "        v[i] = x / GRID_SIZE, y / GRID_SIZE, 0.0\n",
    "        i += 1\n",
    "\n",
    "triangulation = triangle.triangulate(dict(vertices=v[:,:2]))\n",
    "f = triangulation[\"triangles\"]"
   ]
  },
  {
   "cell_type": "markdown",
   "id": "4ef224cf",
   "metadata": {},
   "source": [
    "## Laplace"
   ]
  },
  {
   "cell_type": "code",
   "execution_count": 29,
   "id": "f7cf4953",
   "metadata": {},
   "outputs": [],
   "source": [
    "v_b = np.array((0, GRID_SIZE*GRID_SIZE-1, GRID_SIZE-1))\n",
    "v_all = np.arange(v.shape[0])\n",
    "v_in = np.setdiff1d(v_all, v_b)\n",
    "\n",
    "l = igl.cotmatrix(v, f)\n",
    "l_ii = l[v_in, :]\n",
    "l_ii = l_ii[:, v_in]\n",
    "\n",
    "l_ib = l[v_in, :]\n",
    "l_ib = l_ib[:, v_b]\n",
    "\n",
    "bc_red = np.array((0.0, 1.0, 0.0))\n",
    "bc_green = np.array((0.0, 0.0, 1.0))\n",
    "bc_blue = np.array((1.0, 0.0, 0.0))\n",
    "red_in = spsolve(-l_ii, l_ib.dot(bc_red))\n",
    "green_in = spsolve(-l_ii, l_ib.dot(bc_green))\n",
    "blue_in = spsolve(-l_ii, l_ib.dot(bc_blue))\n",
    "\n",
    "c = np.zeros(v.shape)\n",
    "c[v_b, 0] = bc_red\n",
    "c[v_b, 1] = bc_green\n",
    "c[v_b, 2] = bc_blue\n",
    "c[v_in, 0] = red_in\n",
    "c[v_in, 1] = green_in\n",
    "c[v_in, 2] = blue_in"
   ]
  },
  {
   "cell_type": "markdown",
   "id": "e7c11b45",
   "metadata": {},
   "source": [
    "## Plot"
   ]
  },
  {
   "cell_type": "code",
   "execution_count": 30,
   "id": "d1461f4f",
   "metadata": {},
   "outputs": [
    {
     "data": {
      "application/vnd.jupyter.widget-view+json": {
       "model_id": "52a129673a644722b956817745400fe6",
       "version_major": 2,
       "version_minor": 0
      },
      "text/plain": [
       "Renderer(camera=PerspectiveCamera(children=(DirectionalLight(color='white', intensity=0.6, position=(0.5, 0.5,…"
      ]
     },
     "metadata": {},
     "output_type": "display_data"
    },
    {
     "data": {
      "text/plain": [
       "<meshplot.Viewer.Viewer at 0x7f2b8ddd9700>"
      ]
     },
     "execution_count": 30,
     "metadata": {},
     "output_type": "execute_result"
    }
   ],
   "source": [
    "plot(v, f, c, shading={\"flat\": False})"
   ]
  },
  {
   "cell_type": "code",
   "execution_count": null,
   "id": "c0d470db",
   "metadata": {},
   "outputs": [],
   "source": []
  }
 ],
 "metadata": {
  "kernelspec": {
   "display_name": "Python 3 (ipykernel)",
   "language": "python",
   "name": "python3"
  },
  "language_info": {
   "codemirror_mode": {
    "name": "ipython",
    "version": 3
   },
   "file_extension": ".py",
   "mimetype": "text/x-python",
   "name": "python",
   "nbconvert_exporter": "python",
   "pygments_lexer": "ipython3",
   "version": "3.8.11"
  }
 },
 "nbformat": 4,
 "nbformat_minor": 5
}
