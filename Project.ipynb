{
 "cells": [
  {
   "cell_type": "markdown",
   "id": "fc265ebd",
   "metadata": {},
   "source": [
    "## Imports"
   ]
  },
  {
   "cell_type": "code",
   "execution_count": 31,
   "id": "0a0c60ad",
   "metadata": {},
   "outputs": [],
   "source": [
    "import numpy as np\n",
    "from scipy.sparse.linalg import spsolve\n",
    "import igl\n",
    "from meshplot import plot\n",
    "import triangle"
   ]
  },
  {
   "cell_type": "markdown",
   "id": "90b909b1",
   "metadata": {},
   "source": [
    "## Curves"
   ]
  },
  {
   "cell_type": "code",
   "execution_count": 35,
   "id": "77d81a20",
   "metadata": {},
   "outputs": [],
   "source": [
    "class Curve:\n",
    "    # p1 and p2 are tuples representing the start and end points\n",
    "    # c1 and c2 are tuples representing the colors on each side\n",
    "    def __init__(self, p1, p2, c1, c2):\n",
    "        self.p1 = np.array(p1)\n",
    "        self.p2 = np.array(p2)\n",
    "        self.c1 = np.array(c1)\n",
    "        self.c2 = np.array(c2)\n",
    "    \n",
    "    # Get n samples points on the curve\n",
    "    def sample_points(self, n=100):\n",
    "        points = []\n",
    "        diff = self.p2 - self.p1\n",
    "        for i in range(n):\n",
    "            points.append(self.p1 + diff * i / (n-1))\n",
    "        return np.array(points)\n",
    "\n",
    "\n",
    "curves = np.array([\n",
    "    Curve((0.25, 0.25, 0.0), (0.25, 0.75, 0.0), (1.0, 0.0, 0.0), (1.0, 0.0, 0.0)),\n",
    "    Curve((0.75, 0.25, 0.0), (0.75, 0.75, 0.0), (0.0, 0.0, 1.0), (0.0, 0.0, 1.0)),\n",
    "    Curve((0.75, 0.25, 0.0), (0.75, 0.75, 0.0), (0.0, 0.0, 1.0), (0.0, 0.0, 1.0))\n",
    "])"
   ]
  },
  {
   "cell_type": "markdown",
   "id": "dc0d6064",
   "metadata": {},
   "source": [
    "## Setup"
   ]
  },
  {
   "cell_type": "code",
   "execution_count": 32,
   "id": "4c86bc9d",
   "metadata": {},
   "outputs": [],
   "source": []
  },
  {
   "cell_type": "markdown",
   "id": "ba5369b4",
   "metadata": {},
   "source": [
    "## Laplace"
   ]
  },
  {
   "cell_type": "code",
   "execution_count": 90,
   "id": "a37c81ca",
   "metadata": {},
   "outputs": [],
   "source": [
    "v_b = []\n",
    "bc_red = []\n",
    "bc_green = []\n",
    "bc_blue = []\n",
    "\n",
    "GRID_SIZE = 50\n",
    "v = np.zeros(((GRID_SIZE+1)**2, 3))\n",
    "i = 0\n",
    "for x in range(GRID_SIZE+1):\n",
    "    for y in range(GRID_SIZE+1):\n",
    "        v[i] = x / GRID_SIZE, y / GRID_SIZE, 0.0\n",
    "        if x == 0 or x == GRID_SIZE or y == 0 or y == GRID_SIZE:\n",
    "            v_b.append(i)\n",
    "            bc_red.append(1.0)\n",
    "            bc_green.append(1.0)\n",
    "            bc_blue.append(1.0)\n",
    "        i += 1\n",
    "\n",
    "vertex_i = v.shape[0]\n",
    "for c in curves:\n",
    "    points = c.sample_points(10)\n",
    "    for i in range(points.shape[0]):\n",
    "        v_b.append(vertex_i)\n",
    "        bc_red.append(c.c1[0])\n",
    "        bc_green.append(c.c1[1])\n",
    "        bc_blue.append(c.c1[2])\n",
    "        vertex_i += 1\n",
    "    v = np.append(v, points, axis=0)\n",
    "\n",
    "v_b = np.array(v_b)\n",
    "triangulation = triangle.triangulate(dict(vertices=v[:,:2]))\n",
    "f = triangulation[\"triangles\"]\n",
    "\n",
    "v_all = np.arange(v.shape[0])\n",
    "v_in = np.setdiff1d(v_all, v_b)\n",
    "\n",
    "l = igl.cotmatrix(v, f)\n",
    "l_ii = l[v_in, :]\n",
    "l_ii = l_ii[:, v_in]\n",
    "\n",
    "l_ib = l[v_in, :]\n",
    "l_ib = l_ib[:, v_b]\n",
    "\n",
    "bc_red = np.array(bc_red)\n",
    "bc_green = np.array(bc_green)\n",
    "bc_blue = np.array(bc_blue)\n",
    "\n",
    "red_in = spsolve(-l_ii, l_ib.dot(bc_red))\n",
    "green_in = spsolve(-l_ii, l_ib.dot(bc_green))\n",
    "blue_in = spsolve(-l_ii, l_ib.dot(bc_blue))\n",
    "\n",
    "c = np.zeros(v.shape)\n",
    "c[v_b, 0] = bc_red\n",
    "c[v_b, 1] = bc_green\n",
    "c[v_b, 2] = bc_blue\n",
    "c[v_in, 0] = red_in\n",
    "c[v_in, 1] = green_in\n",
    "c[v_in, 2] = blue_in"
   ]
  },
  {
   "cell_type": "markdown",
   "id": "fe0fe745",
   "metadata": {},
   "source": [
    "## Plot"
   ]
  },
  {
   "cell_type": "code",
   "execution_count": 91,
   "id": "2aad383b",
   "metadata": {},
   "outputs": [
    {
     "data": {
      "application/vnd.jupyter.widget-view+json": {
       "model_id": "e24a767a7f14438e9eb29ea4085e5980",
       "version_major": 2,
       "version_minor": 0
      },
      "text/plain": [
       "Renderer(camera=PerspectiveCamera(children=(DirectionalLight(color='white', intensity=0.6, position=(0.5, 0.5,…"
      ]
     },
     "metadata": {},
     "output_type": "display_data"
    },
    {
     "data": {
      "text/plain": [
       "<meshplot.Viewer.Viewer at 0x7f2b8da8a3d0>"
      ]
     },
     "execution_count": 91,
     "metadata": {},
     "output_type": "execute_result"
    }
   ],
   "source": [
    "plot(v, f, c, shading={\"wireframe\": True})"
   ]
  },
  {
   "cell_type": "code",
   "execution_count": null,
   "id": "66ed4854",
   "metadata": {},
   "outputs": [],
   "source": []
  },
  {
   "cell_type": "code",
   "execution_count": null,
   "id": "4725c768",
   "metadata": {},
   "outputs": [],
   "source": []
  }
 ],
 "metadata": {
  "kernelspec": {
   "display_name": "Python 3 (ipykernel)",
   "language": "python",
   "name": "python3"
  },
  "language_info": {
   "codemirror_mode": {
    "name": "ipython",
    "version": 3
   },
   "file_extension": ".py",
   "mimetype": "text/x-python",
   "name": "python",
   "nbconvert_exporter": "python",
   "pygments_lexer": "ipython3",
   "version": "3.8.11"
  }
 },
 "nbformat": 4,
 "nbformat_minor": 5
}
