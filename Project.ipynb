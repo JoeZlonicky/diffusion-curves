{
 "cells": [
  {
   "cell_type": "markdown",
   "id": "bcc43bfc",
   "metadata": {},
   "source": [
    "# Imports"
   ]
  },
  {
   "cell_type": "code",
   "execution_count": 20,
   "id": "f111f21b",
   "metadata": {},
   "outputs": [],
   "source": [
    "import numpy as np\n",
    "import scipy.sparse.linalg as sp\n",
    "import igl\n",
    "import meshplot\n",
    "import triangle"
   ]
  },
  {
   "cell_type": "markdown",
   "id": "f5fbf8c8",
   "metadata": {},
   "source": [
    "# Declare cuves"
   ]
  },
  {
   "cell_type": "code",
   "execution_count": 21,
   "id": "bd0a98b3",
   "metadata": {},
   "outputs": [],
   "source": [
    "class Curve:\n",
    "    # p1 and p2 are tuples representing the start and end points\n",
    "    # c1 and c2 are tuples representing the colors on each side\n",
    "    def __init__(self, p1, p2, c1, c2):\n",
    "        self.p1 = np.array(p1)\n",
    "        self.p2 = np.array(p2)\n",
    "        self.c1 = np.array(c1)\n",
    "        self.c2 = np.array(c2)\n",
    "    \n",
    "    # Get n samples points on the curve\n",
    "    def sample_points(self, n=100):\n",
    "        points = []\n",
    "        diff = self.p2 - self.p1\n",
    "        for i in range(n):\n",
    "            points.append(self.p1 + diff * i / (n-1))\n",
    "        return np.array(points)\n",
    "\n",
    "\n",
    "curves = np.array([\n",
    "    Curve((0.25, 0.25), (0.25, 0.75), (1.0, 0.0, 0.0), (1.0, 0.0, 0.0)),\n",
    "    Curve((0.75, 0.25), (0.75, 0.75), (0.0, 0.0, 1.0), (0.0, 0.0, 1.0))\n",
    "])"
   ]
  },
  {
   "cell_type": "code",
   "execution_count": 89,
   "id": "6cbfc7cc",
   "metadata": {},
   "outputs": [
    {
     "name": "stdout",
     "output_type": "stream",
     "text": [
      "[[0.   0.   0.  ]\n",
      " [1.   0.   0.  ]\n",
      " [1.   1.   0.  ]\n",
      " ...\n",
      " [1.   0.98 0.  ]\n",
      " [1.   0.99 0.  ]\n",
      " [1.   1.   0.  ]]\n",
      "[nan nan nan ... nan nan nan]\n",
      "Invalid color array given! Supported are numpy arrays. <class 'numpy.ndarray'>\n"
     ]
    },
    {
     "data": {
      "application/vnd.jupyter.widget-view+json": {
       "model_id": "bbea6ea5740549fb821ed7532ff8874c",
       "version_major": 2,
       "version_minor": 0
      },
      "text/plain": [
       "Renderer(camera=PerspectiveCamera(children=(DirectionalLight(color='white', intensity=0.6, position=(0.5, 0.5,…"
      ]
     },
     "metadata": {},
     "output_type": "display_data"
    },
    {
     "data": {
      "text/plain": [
       "<meshplot.Viewer.Viewer at 0x7fc50a4c6880>"
      ]
     },
     "execution_count": 89,
     "metadata": {},
     "output_type": "execute_result"
    }
   ],
   "source": [
    "# Define boundary\n",
    "v = np.array(((0.0, 0.0), (1.0, 0.0), (1.0, 1.0), (0.0, 1.0)))\n",
    "segments = np.array(((0, 1), (1, 2), (2, 3), (3, 0)))\n",
    "BORDER_COLOR = (0.0, 0.0, 0.0)\n",
    "\n",
    "constrained_indices = [0, 1, 2, 3]\n",
    "constrained_red = [BORDER_COLOR[0] for _ in range(4)]\n",
    "constrained_green = [BORDER_COLOR[1] for _ in range(4)]\n",
    "constrained_blue = [BORDER_COLOR[2] for _ in range(4)]\n",
    "\n",
    "# Add curve vertices and segments\n",
    "for c in curves:\n",
    "    points = c.sample_points(100)\n",
    "    for i in range(points.shape[0]):\n",
    "        constrained_indices.append(v.shape[0] + i)\n",
    "        constrained_red.append(c.c1[0])\n",
    "        constrained_green.append(c.c1[1])\n",
    "        constrained_blue.append(c.c1[2])\n",
    "    \n",
    "    curve_segments = []\n",
    "    for i in range(points.shape[0] - 1):\n",
    "        curve_segments.append((v.shape[0]+i, v.shape[0]+i+1))\n",
    "    \n",
    "    v = np.append(v, points, axis=0)\n",
    "    segments = np.append(segments, curve_segments, axis=0)\n",
    "\n",
    "constrained_indices = np.array(constrained_indices)\n",
    "constrained_red = np.array(constrained_red)\n",
    "constrained_green = np.array(constrained_green)\n",
    "constrained_blue = np.array(constrained_blue)\n",
    "\n",
    "# Create grid\n",
    "GRID_SIZE = 100\n",
    "grid = np.zeros(((GRID_SIZE+1)**2, 2))\n",
    "i = 0\n",
    "for x in range(GRID_SIZE+1):\n",
    "    for y in range(GRID_SIZE+1):\n",
    "        grid[i] = x / GRID_SIZE, y / GRID_SIZE\n",
    "        i += 1\n",
    "v = np.append(v, grid, axis=0)\n",
    "\n",
    "# Triangulate\n",
    "triangulation = triangle.triangulate(dict(vertices=v[:,:2], segments=segments))\n",
    "\n",
    "v = np.zeros((v.shape[0], 3))\n",
    "v[:, :2] = triangulation[\"vertices\"]\n",
    "f = triangulation[\"triangles\"]\n",
    "\n",
    "v_b = constrained_indices\n",
    "\n",
    "## List of all vertex indices\n",
    "v_all = np.arange(v.shape[0])\n",
    "\n",
    "## List of interior indices\n",
    "v_in = np.setdiff1d(v_all, v_b)\n",
    "\n",
    "## Construct and slice up Laplacian\n",
    "l = igl.cotmatrix(v, f)\n",
    "l_ii = l[v_in, :]\n",
    "l_ii = l_ii[:, v_in]\n",
    "\n",
    "l_ib = l[v_in, :]\n",
    "l_ib = l_ib[:, v_b]\n",
    "\n",
    "## Dirichlet boundary conditions from z-coordinate\n",
    "bc = constrained_red\n",
    "print(v)\n",
    "\n",
    "## Solve PDE\n",
    "z_in = sp.spsolve(-l_ii, l_ib.dot(bc))\n",
    "\n",
    "\"\"\"\n",
    "v_all = np.arange(v.shape[0])\n",
    "v_nc = np.setdiff1d(v_all, constrained_indices)\n",
    "\n",
    "l = igl.cotmatrix(v, f)\n",
    "l_ii = l[v_nc, :]\n",
    "l_ii = l_ii[:, v_nc]\n",
    "l_ib = l[v_nc, :]\n",
    "l_ib = l_ib[:, constrained_indices]\n",
    "\n",
    "b = l_ib.dot(constrained_red)\n",
    "z_in = sp.spsolve(-l_ii, b)\n",
    "\"\"\"\n",
    "\n",
    "meshplot.plot(v, f, z, shading={\"wireframe\": True})\n",
    "#p.add_points(v, shading={\"point_color\" : \"green\", \"point_size\": 0.05})"
   ]
  },
  {
   "cell_type": "code",
   "execution_count": null,
   "id": "7409dcea",
   "metadata": {},
   "outputs": [],
   "source": []
  }
 ],
 "metadata": {
  "kernelspec": {
   "display_name": "Python 3 (ipykernel)",
   "language": "python",
   "name": "python3"
  },
  "language_info": {
   "codemirror_mode": {
    "name": "ipython",
    "version": 3
   },
   "file_extension": ".py",
   "mimetype": "text/x-python",
   "name": "python",
   "nbconvert_exporter": "python",
   "pygments_lexer": "ipython3",
   "version": "3.8.11"
  }
 },
 "nbformat": 4,
 "nbformat_minor": 5
}
